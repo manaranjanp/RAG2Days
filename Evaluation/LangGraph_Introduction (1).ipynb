{
  "nbformat": 4,
  "nbformat_minor": 0,
  "metadata": {
    "colab": {
      "provenance": []
    },
    "kernelspec": {
      "name": "python3",
      "display_name": "Python 3"
    },
    "language_info": {
      "name": "python"
    }
  },
  "cells": [
    {
      "cell_type": "code",
      "execution_count": null,
      "metadata": {
        "id": "fVKvKniobFHy"
      },
      "outputs": [],
      "source": [
        "%%capture --no-stderr\n",
        "%pip install -U langgraph langsmith langchain-groq langchain-community\n",
        "#%pip langchain-anthropic\n",
        "#%pip langchain-openai"
      ]
    },
    {
      "cell_type": "code",
      "source": [
        "import getpass\n",
        "import os\n",
        "from pprint import pprint\n",
        "from google.colab import userdata\n",
        "\n",
        "\n",
        "def _set_env(var: str):\n",
        "    if not os.environ.get(var):\n",
        "#        os.environ[var] = getpass.getpass(f\"{var}: \")\n",
        "        os.environ[var] = userdata.get(var)"
      ],
      "metadata": {
        "id": "QyquLTRYbaSW"
      },
      "execution_count": null,
      "outputs": []
    },
    {
      "cell_type": "code",
      "source": [
        "_set_env(\"GROQ_API_KEY\")"
      ],
      "metadata": {
        "id": "-_XjV8uPdrDB"
      },
      "execution_count": null,
      "outputs": []
    },
    {
      "cell_type": "markdown",
      "source": [
        "## Build a Basic Chatbot"
      ],
      "metadata": {
        "id": "DnSsPJv0b5c9"
      }
    },
    {
      "cell_type": "code",
      "source": [
        "from typing import Annotated\n",
        "\n",
        "from typing_extensions import TypedDict\n",
        "\n",
        "from langgraph.graph import StateGraph, START, END\n",
        "from langgraph.graph.message import add_messages\n",
        "\n",
        "\n",
        "class State(TypedDict):\n",
        "    # Messages have the type \"list\". The `add_messages` function\n",
        "    # in the annotation defines how this state key should be updated\n",
        "    # (in this case, it appends messages to the list, rather than overwriting them)\n",
        "    messages: Annotated[list, add_messages]\n",
        "\n",
        "\n",
        "graph_builder = StateGraph(State)"
      ],
      "metadata": {
        "id": "M8z9XGiJbjak"
      },
      "execution_count": null,
      "outputs": []
    },
    {
      "cell_type": "code",
      "source": [
        "from langchain_groq import ChatGroq\n",
        "\n",
        "llm = ChatGroq(model=\"qwen-2.5-32b\",\n",
        "               temperature=0,\n",
        "               max_tokens=256,\n",
        "               max_retries=2)\n",
        "\n",
        "def chatbot(state: State):\n",
        "    return {\"messages\": [llm.invoke(state[\"messages\"])]}\n",
        "\n",
        "\n",
        "# The first argument is the unique node name\n",
        "# The second argument is the function or object that will be called whenever\n",
        "# the node is used.\n",
        "graph_builder.add_node(\"chatbot\", chatbot)"
      ],
      "metadata": {
        "colab": {
          "base_uri": "https://localhost:8080/"
        },
        "id": "RpALZiFbb7aq",
        "outputId": "f7f8b648-3806-4f57-d30d-57312ec9038c"
      },
      "execution_count": null,
      "outputs": [
        {
          "output_type": "execute_result",
          "data": {
            "text/plain": [
              "<langgraph.graph.state.StateGraph at 0x7ab30b4bf190>"
            ]
          },
          "metadata": {},
          "execution_count": 410
        }
      ]
    },
    {
      "cell_type": "code",
      "source": [
        "graph_builder.add_edge(START, \"chatbot\")\n",
        "graph_builder.add_edge(\"chatbot\", END)\n",
        "graph = graph_builder.compile()"
      ],
      "metadata": {
        "id": "AeX0twOlcYEM"
      },
      "execution_count": null,
      "outputs": []
    },
    {
      "cell_type": "code",
      "source": [
        "from IPython.display import Image, display\n",
        "\n",
        "try:\n",
        "    display(Image(graph.get_graph().draw_mermaid_png()))\n",
        "except Exception:\n",
        "    # This requires some extra dependencies and is optional\n",
        "    pass"
      ],
      "metadata": {
        "colab": {
          "base_uri": "https://localhost:8080/",
          "height": 251
        },
        "id": "kQqgYN_0cp80",
        "outputId": "db68ede9-b355-4ede-ecc0-bcec6441c05c"
      },
      "execution_count": null,
      "outputs": [
        {
          "output_type": "display_data",
          "data": {
            "image/png": "[encoded data removed]",
            "text/plain": [
              "<IPython.core.display.Image object>"
            ]
          },
          "metadata": {}
        }
      ]
    },
    {
      "cell_type": "code",
      "source": [
        "response = graph.invoke({\"messages\": [{\"role\": \"user\", \"content\": \"What is agentic ai?\"}]})"
      ],
      "metadata": {
        "id": "Q59CuFYAexTJ"
      },
      "execution_count": null,
      "outputs": []
    },
    {
      "cell_type": "code",
      "source": [
        "response['messages'][-1].content"
      ],
      "metadata": {
        "colab": {
          "base_uri": "https://localhost:8080/",
          "height": 174
        },
        "id": "tOMYXWuDfBmh",
        "outputId": "1778bbac-e72f-4b57-aa8d-b36d9cf5acac"
      },
      "execution_count": null,
      "outputs": [
        {
          "output_type": "execute_result",
          "data": {
            "text/plain": [
              "'Agentic AI refers to artificial intelligence systems that are designed to act autonomously and purposefully, much like agents in the real world. These AI systems are capable of making decisions and taking actions based on their objectives, often in complex and dynamic environments. The term \"agentic\" emphasizes the AI\\'s ability to act independently, with a sense of agency, to achieve specific goals.\\n\\nAgentic AI can be found in various applications, such as autonomous vehicles, where the AI makes real-time decisions to navigate and avoid obstacles; in virtual assistants that can perform tasks on behalf of users; and in complex simulations or games where AI entities must make strategic decisions to achieve victory or other objectives.\\n\\nThe development of agentic AI involves advanced algorithms and models, including reinforcement learning, which allows AI to learn from its interactions with the environment, and decision-making processes that can adapt to new situations.'"
            ],
            "application/vnd.google.colaboratory.intrinsic+json": {
              "type": "string"
            }
          },
          "metadata": {},
          "execution_count": 135
        }
      ]
    },
    {
      "cell_type": "code",
      "source": [
        "while True:\n",
        "    try:\n",
        "        user_input = input(\"User: \")\n",
        "        if user_input.lower() in [\"quit\", \"exit\", \"q\"]:\n",
        "            print(\"Goodbye!\")\n",
        "            break\n",
        "\n",
        "        response = graph.invoke({\"messages\": [{\"role\": \"user\", \"content\": user_input}]})\n",
        "        print(\"Assistant:\", response['messages'][-1].content)\n",
        "#        print(\"Assistant:\", response['messages'])\n",
        "\n",
        "    except:\n",
        "        break"
      ],
      "metadata": {
        "colab": {
          "base_uri": "https://localhost:8080/"
        },
        "id": "Y3D5OkZ-dCKK",
        "outputId": "75788fe4-1295-471c-bfac-9588344a6abd"
      },
      "execution_count": null,
      "outputs": [
        {
          "output_type": "stream",
          "name": "stdout",
          "text": [
            "User: hi\n",
            "Assistant: Hello! How can I assist you today?\n",
            "User: what is your name\n",
            "Assistant: My name is Qwen. I am a large language model created by Alibaba Cloud.\n",
            "User: what is agent\n",
            "Assistant: The term \"agent\" can have different meanings depending on the context in which it is used. Here are a few common interpretations:\n",
            "\n",
            "1. **In Business and Commerce**: An agent is someone who acts on behalf of another person or organization. This could include real estate agents, travel agents, or agents who represent clients in negotiations or transactions.\n",
            "\n",
            "2. **In Computer Science and Artificial Intelligence**: An agent is a software entity that can act independently to some extent, often to perform tasks on behalf of users or to interact with other agents. Agents can be simple, like a software program that automatically updates your computer, or complex, like autonomous robots or AI systems that can make decisions based on their environment.\n",
            "\n",
            "3. **In Literature and Media**: An agent can refer to a character or entity that is sent on a mission or has a specific role, often in the context of espionage or special operations.\n",
            "\n",
            "4. **In Law**: An agent is someone who is authorized to act on behalf of another person or entity, often with legal authority to make decisions or enter into contracts.\n",
            "\n",
            "5. **In Philosophy and Social Sciences**: An agent can refer to an individual who acts with intention and purpose, often in the context of discussing agency, which is the capacity of individuals to act independently and make\n",
            "User: quit\n",
            "Goodbye!\n"
          ]
        }
      ]
    },
    {
      "cell_type": "markdown",
      "source": [
        "## Adding Tools"
      ],
      "metadata": {
        "id": "MznZ1HNgjL3R"
      }
    },
    {
      "cell_type": "code",
      "source": [
        "from langchain_community.tools.tavily_search import TavilySearchResults\n",
        "from langgraph.prebuilt import ToolNode, tools_condition"
      ],
      "metadata": {
        "id": "0AiZKMM6jOo9"
      },
      "execution_count": null,
      "outputs": []
    },
    {
      "cell_type": "code",
      "source": [
        "class State(TypedDict):\n",
        "    # Messages have the type \"list\". The `add_messages` function\n",
        "    # in the annotation defines how this state key should be updated\n",
        "    # (in this case, it appends messages to the list, rather than overwriting them)\n",
        "    messages: Annotated[list, add_messages]\n",
        "\n",
        "\n",
        "graph_tool_builder = StateGraph(State)\n",
        "\n",
        "from langchain_groq import ChatGroq\n",
        "\n",
        "llm = ChatGroq(model=\"qwen-2.5-32b\",\n",
        "               temperature=0,\n",
        "               max_tokens=256,\n",
        "               max_retries=2)"
      ],
      "metadata": {
        "id": "-Mzex52Ejgip"
      },
      "execution_count": null,
      "outputs": []
    },
    {
      "cell_type": "code",
      "source": [
        "_set_env(\"TAVILY_API_KEY\")"
      ],
      "metadata": {
        "id": "-ac2-OdSjv0B"
      },
      "execution_count": null,
      "outputs": []
    },
    {
      "cell_type": "code",
      "source": [
        "tool = TavilySearchResults(max_results=2)\n",
        "tools = [tool]"
      ],
      "metadata": {
        "id": "fA3vLU-MjrI3"
      },
      "execution_count": null,
      "outputs": []
    },
    {
      "cell_type": "code",
      "source": [
        "llm_with_tools = llm.bind_tools(tools)\n",
        "\n",
        "def chatbot_with_tools(state: State):\n",
        "    return {\"messages\": [llm_with_tools.invoke(state[\"messages\"])]}"
      ],
      "metadata": {
        "id": "kU--Ot8ldC6m"
      },
      "execution_count": null,
      "outputs": []
    },
    {
      "cell_type": "code",
      "source": [
        "graph_tool_builder.add_node(\"chatbotWithTools\", chatbot_with_tools)\n",
        "\n",
        "tool_node = ToolNode(tools=[tool])\n",
        "graph_tool_builder.add_node(\"tools\", tool_node)\n",
        "\n",
        "graph_tool_builder.add_conditional_edges(\n",
        "    \"chatbotWithTools\",\n",
        "    tools_condition,\n",
        ")\n",
        "# Any time a tool is called, we return to the chatbot to decide the next step\n",
        "graph_tool_builder.add_edge(\"tools\", \"chatbotWithTools\")\n",
        "graph_tool_builder.set_entry_point(\"chatbotWithTools\")\n",
        "tool_graph = graph_tool_builder.compile()"
      ],
      "metadata": {
        "id": "4l0GKo1Kj6fS"
      },
      "execution_count": null,
      "outputs": []
    },
    {
      "cell_type": "code",
      "source": [
        "from IPython.display import Image, display\n",
        "\n",
        "try:\n",
        "    display(Image(tool_graph.get_graph().draw_mermaid_png()))\n",
        "except Exception:\n",
        "    # This requires some extra dependencies and is optional\n",
        "    pass"
      ],
      "metadata": {
        "colab": {
          "base_uri": "https://localhost:8080/",
          "height": 266
        },
        "id": "22J83LLckCOY",
        "outputId": "756fd887-032d-4006-9c80-3076b4987726"
      },
      "execution_count": null,
      "outputs": [
        {
          "output_type": "display_data",
          "data": {
            "image/png": "[encoded data removed]",
            "text/plain": [
              "<IPython.core.display.Image object>"
            ]
          },
          "metadata": {}
        }
      ]
    },
    {
      "cell_type": "code",
      "source": [
        "while True:\n",
        "    try:\n",
        "        user_input = input(\"User: \")\n",
        "        if user_input.lower() in [\"quit\", \"exit\", \"q\"]:\n",
        "            print(\"Goodbye!\")\n",
        "            break\n",
        "\n",
        "#        print(\"User: \" + user_input)\n",
        "        response = tool_graph.invoke({\"messages\": [{\"role\": \"user\", \"content\": user_input}]})\n",
        "        print(\"Assistant:\", response['messages'][-1].content)\n",
        "#        print(\"Assistant:\", response['messages'])\n",
        "\n",
        "    except:\n",
        "        break"
      ],
      "metadata": {
        "colab": {
          "base_uri": "https://localhost:8080/"
        },
        "id": "t9l2AuGZkGKr",
        "outputId": "7e3ce181-eedf-4819-e543-a0f77bac8f15"
      },
      "execution_count": null,
      "outputs": [
        {
          "output_type": "stream",
          "name": "stdout",
          "text": [
            "User: what is a agent?\n",
            "Assistant: An agent, in a general context, can refer to several different concepts depending on the field or context it is used in. Here are a few common interpretations:\n",
            "\n",
            "1. **Business/Commerce**: An agent is someone who acts on behalf of another person or organization, often in the context of buying, selling, or negotiating. For example, a real estate agent helps clients buy or sell properties.\n",
            "\n",
            "2. **Computer Science/Artificial Intelligence**: An agent is a software entity that can perceive its environment through sensors and act upon that environment through effectors. It operates autonomously and is often designed to perform specific tasks or solve problems.\n",
            "\n",
            "3. **Legal**: In legal contexts, an agent is a person authorized to act on behalf of another, such as a lawyer representing a client in court.\n",
            "\n",
            "4. **Security**: In the context of security, an agent can refer to a software program that monitors and reports on the security status of a computer system.\n",
            "\n",
            "If you're interested in a specific context or field, please provide more details so I can give you a more precise explanation.\n",
            "User: who has won 2025 icc championship trophy?\n",
            "Assistant: The winner of the 2025 ICC Champions Trophy is India. The tournament was hosted in Pakistan and the UAE.\n",
            "User: who was the man of the match?\n",
            "Assistant: To provide you with the most accurate answer, could you please specify which sport or event you are referring to? The \"Man of the Match\" award can be given in various sports and events, and without this context, it's challenging to identify the specific person you're asking about.\n"
          ]
        }
      ]
    },
    {
      "cell_type": "markdown",
      "source": [
        "## Adding Memory to Graph"
      ],
      "metadata": {
        "id": "suAIiP80m4nk"
      }
    },
    {
      "cell_type": "code",
      "source": [
        "from langgraph.checkpoint.memory import MemorySaver\n",
        "\n",
        "memory = MemorySaver()"
      ],
      "metadata": {
        "id": "tExGzw3bkt-M"
      },
      "execution_count": null,
      "outputs": []
    },
    {
      "cell_type": "code",
      "source": [
        "graph_tool_builder = StateGraph(State)\n",
        "\n",
        "graph_tool_builder.add_node(\"chatbotWithTools\", chatbot_with_tools)\n",
        "\n",
        "tool_node = ToolNode(tools=[tool])\n",
        "graph_tool_builder.add_node(\"tools\", tool_node)\n",
        "\n",
        "graph_tool_builder.add_conditional_edges(\n",
        "    \"chatbotWithTools\",\n",
        "    tools_condition,\n",
        ")\n",
        "# Any time a tool is called, we return to the chatbot to decide the next step\n",
        "graph_tool_builder.add_edge(\"tools\", \"chatbotWithTools\")\n",
        "graph_tool_builder.set_entry_point(\"chatbotWithTools\")\n",
        "tool_graph = graph_tool_builder.compile(checkpointer=memory)"
      ],
      "metadata": {
        "id": "-vN-uqQCm7nw"
      },
      "execution_count": null,
      "outputs": []
    },
    {
      "cell_type": "code",
      "source": [
        "config = {\"configurable\": {\"thread_id\": \"1\"}}"
      ],
      "metadata": {
        "id": "efh4-yR9nMIe"
      },
      "execution_count": null,
      "outputs": []
    },
    {
      "cell_type": "code",
      "source": [
        "while True:\n",
        "    try:\n",
        "        user_input = input(\"User: \")\n",
        "        if user_input.lower() in [\"quit\", \"exit\", \"q\"]:\n",
        "            print(\"Goodbye!\")\n",
        "            break\n",
        "\n",
        "#        print(\"User: \" + user_input)\n",
        "        response = tool_graph.invoke({\"messages\": [{\"role\": \"user\", \"content\": user_input}]}, config)\n",
        "        print(\"Assistant:\", response['messages'][-1].content)\n",
        "#        print(\"Assistant:\", response['messages'])\n",
        "\n",
        "    except:\n",
        "        break"
      ],
      "metadata": {
        "colab": {
          "base_uri": "https://localhost:8080/"
        },
        "id": "QM36mtmInfO9",
        "outputId": "57352276-3594-423c-ba2d-96323b504f3e"
      },
      "execution_count": null,
      "outputs": [
        {
          "output_type": "stream",
          "name": "stdout",
          "text": [
            "User: who has won 2025 icc championship trophy?\n",
            "Assistant: According to the latest information, India has won the 2025 ICC Champions Trophy, which was hosted in Pakistan and the UAE.\n",
            "User: who won it?\n",
            "Assistant: India won the 2025 ICC Champions Trophy.\n",
            "User: who was the man of the match?\n",
            "Assistant: The information provided does not include the man of the match for the 2025 ICC Champions Trophy. To give you an accurate answer, I would need to perform a more detailed search. Would you like me to proceed with that?\n",
            "User: quit?\n",
            "Assistant: If you have any other questions or need further assistance, feel free to ask. If not, I can conclude this session. Let me know how you'd like to proceed!\n",
            "User: quit\n",
            "Goodbye!\n"
          ]
        }
      ]
    },
    {
      "cell_type": "markdown",
      "source": [
        "## Time Travel"
      ],
      "metadata": {
        "id": "oqy6ZjP1XabA"
      }
    },
    {
      "cell_type": "code",
      "source": [
        "for state in tool_graph.get_state_history(config):\n",
        "    print(\"Num Messages: \", len(state.values[\"messages\"]), \"Next: \", state.next)\n",
        "    print(\"-\" * 80)"
      ],
      "metadata": {
        "colab": {
          "base_uri": "https://localhost:8080/"
        },
        "id": "vn8jbZLJn_CA",
        "outputId": "c2ad118f-d201-416e-d4b5-c8e5063ed822"
      },
      "execution_count": null,
      "outputs": [
        {
          "output_type": "stream",
          "name": "stdout",
          "text": [
            "Num Messages:  10 Next:  ()\n",
            "--------------------------------------------------------------------------------\n",
            "Num Messages:  9 Next:  ('chatbotWithTools',)\n",
            "--------------------------------------------------------------------------------\n",
            "Num Messages:  8 Next:  ('__start__',)\n",
            "--------------------------------------------------------------------------------\n",
            "Num Messages:  8 Next:  ()\n",
            "--------------------------------------------------------------------------------\n",
            "Num Messages:  7 Next:  ('chatbotWithTools',)\n",
            "--------------------------------------------------------------------------------\n",
            "Num Messages:  6 Next:  ('__start__',)\n",
            "--------------------------------------------------------------------------------\n",
            "Num Messages:  6 Next:  ()\n",
            "--------------------------------------------------------------------------------\n",
            "Num Messages:  5 Next:  ('chatbotWithTools',)\n",
            "--------------------------------------------------------------------------------\n",
            "Num Messages:  4 Next:  ('__start__',)\n",
            "--------------------------------------------------------------------------------\n",
            "Num Messages:  4 Next:  ()\n",
            "--------------------------------------------------------------------------------\n",
            "Num Messages:  3 Next:  ('chatbotWithTools',)\n",
            "--------------------------------------------------------------------------------\n",
            "Num Messages:  2 Next:  ('tools',)\n",
            "--------------------------------------------------------------------------------\n",
            "Num Messages:  1 Next:  ('chatbotWithTools',)\n",
            "--------------------------------------------------------------------------------\n",
            "Num Messages:  0 Next:  ('__start__',)\n",
            "--------------------------------------------------------------------------------\n"
          ]
        }
      ]
    },
    {
      "cell_type": "code",
      "source": [
        "for state in tool_graph.get_state_history(config):\n",
        "    if len(state.values[\"messages\"]) == 5:\n",
        "        to_replay = state"
      ],
      "metadata": {
        "id": "vMvRy2_-Xrje"
      },
      "execution_count": null,
      "outputs": []
    },
    {
      "cell_type": "code",
      "source": [
        "print(to_replay.next)\n",
        "print(to_replay.config)"
      ],
      "metadata": {
        "colab": {
          "base_uri": "https://localhost:8080/"
        },
        "id": "6zObS34yXYt9",
        "outputId": "9386c2f6-7c05-4911-dc6b-b2ba5da6a9ad"
      },
      "execution_count": null,
      "outputs": [
        {
          "output_type": "stream",
          "name": "stdout",
          "text": [
            "('chatbotWithTools',)\n",
            "{'configurable': {'thread_id': '1', 'checkpoint_ns': '', 'checkpoint_id': '1f006265-4f02-638c-8005-2c9ed739862c'}}\n"
          ]
        }
      ]
    },
    {
      "cell_type": "code",
      "source": [
        "# The `checkpoint_id` in the `to_replay.config` corresponds to a state we've persisted to our checkpointer.\n",
        "response = tool_graph.invoke(None,\n",
        "                             to_replay.config,\n",
        "                             stream_mode=\"values\")"
      ],
      "metadata": {
        "id": "s0KuovWgX_D7"
      },
      "execution_count": null,
      "outputs": []
    },
    {
      "cell_type": "code",
      "source": [
        "print(\"Assistant:\", response['messages'][-1].content)"
      ],
      "metadata": {
        "colab": {
          "base_uri": "https://localhost:8080/"
        },
        "id": "pwMmcq8yZk4q",
        "outputId": "85a975c1-0b61-4a4f-82a2-739bdf5e03e6"
      },
      "execution_count": null,
      "outputs": [
        {
          "output_type": "stream",
          "name": "stdout",
          "text": [
            "Assistant: India won the 2025 ICC Champions Trophy.\n"
          ]
        }
      ]
    },
    {
      "cell_type": "markdown",
      "source": [
        "## Tracing with Langsmith"
      ],
      "metadata": {
        "id": "FdfYra5o5g-G"
      }
    },
    {
      "cell_type": "code",
      "source": [
        "!export LANGSMITH_TRACING=true"
      ],
      "metadata": {
        "id": "Z0aWM9Rk5kpk"
      },
      "execution_count": null,
      "outputs": []
    },
    {
      "cell_type": "code",
      "source": [
        "_set_env(\"LANGSMITH_API_KEY\")"
      ],
      "metadata": {
        "id": "9vVftv1XZnpV"
      },
      "execution_count": null,
      "outputs": []
    },
    {
      "cell_type": "code",
      "source": [
        "class State(TypedDict):\n",
        "    # Messages have the type \"list\". The `add_messages` function\n",
        "    # in the annotation defines how this state key should be updated\n",
        "    # (in this case, it appends messages to the list, rather than overwriting them)\n",
        "    messages: Annotated[list, add_messages]\n",
        "\n",
        "\n",
        "graph_tool_builder = StateGraph(State)\n",
        "\n",
        "from langchain_groq import ChatGroq\n",
        "\n",
        "llm = ChatGroq(model=\"qwen-2.5-32b\",\n",
        "               temperature=0,\n",
        "               max_tokens=256,\n",
        "               max_retries=2)\n",
        "\n",
        "tool = TavilySearchResults(max_results=2)\n",
        "tools = [tool]\n",
        "\n",
        "llm_with_tools = llm.bind_tools(tools)\n",
        "\n",
        "def chatbot_with_tools(state: State):\n",
        "    return {\"messages\": [llm_with_tools.invoke(state[\"messages\"])]}\n",
        "\n",
        "graph_tool_builder = StateGraph(State)\n",
        "\n",
        "graph_tool_builder.add_node(\"chatbotWithTools\", chatbot_with_tools)\n",
        "\n",
        "tool_node = ToolNode(tools=[tool])\n",
        "graph_tool_builder.add_node(\"tools\", tool_node)\n",
        "\n",
        "graph_tool_builder.add_conditional_edges(\n",
        "    \"chatbotWithTools\",\n",
        "    tools_condition,\n",
        ")\n",
        "# Any time a tool is called, we return to the chatbot to decide the next step\n",
        "graph_tool_builder.add_edge(\"tools\", \"chatbotWithTools\")\n",
        "graph_tool_builder.set_entry_point(\"chatbotWithTools\")\n",
        "tool_graph = graph_tool_builder.compile(checkpointer=memory)"
      ],
      "metadata": {
        "id": "e2_6h3G955_5"
      },
      "execution_count": null,
      "outputs": []
    },
    {
      "cell_type": "code",
      "source": [
        "config = {\"configurable\": {\"thread_id\": \"1\"}}"
      ],
      "metadata": {
        "id": "BuzVlluP6kiQ"
      },
      "execution_count": null,
      "outputs": []
    },
    {
      "cell_type": "code",
      "source": [
        "while True:\n",
        "    try:\n",
        "        user_input = input(\"User: \")\n",
        "        if user_input.lower() in [\"quit\", \"exit\", \"q\"]:\n",
        "            print(\"Goodbye!\")\n",
        "            break\n",
        "\n",
        "        response = tool_graph.invoke({\"messages\": [{\"role\": \"user\", \"content\": user_input}]}, config)\n",
        "        print(\"Assistant:\", response['messages'][-1].content)\n",
        "    except:\n",
        "        break"
      ],
      "metadata": {
        "colab": {
          "base_uri": "https://localhost:8080/"
        },
        "id": "BmCPCTue6rPO",
        "outputId": "988276df-3611-4002-cd75-70146737d03d"
      },
      "execution_count": null,
      "outputs": [
        {
          "name": "stdout",
          "output_type": "stream",
          "text": [
            "User: who won icc championship trophy in 2025?\n",
            "Assistant: According to the information, India won the ICC Champions Trophy in 2025.\n",
            "User: who was man of the series?\n",
            "Assistant: The provided information does not specify who was named the Man of the Series for the ICC Champions Trophy in 2025. To give you an accurate answer, I would need to perform another search. Would you like me to proceed with that?\n",
            "User: where the match was played?\n",
            "Assistant: Based on the information available, the ICC Champions Trophy 2025 was hosted by Pakistan and the United Arab Emirates (UAE). However, the specific venues for each match, including the final, are not detailed in the provided information. To get the exact locations where the matches were played, we would need to look up the schedule or results from the tournament. Would you like me to search for that information?\n",
            "User: who won in 2019?\n"
          ]
        }
      ]
    },
    {
      "cell_type": "markdown",
      "source": [
        "## Human In the Loop"
      ],
      "metadata": {
        "id": "-xzSc4lgc1xC"
      }
    },
    {
      "cell_type": "code",
      "source": [
        "from langgraph.types import Command, interrupt\n",
        "from langchain_community.tools.tavily_search import TavilySearchResults\n",
        "from langgraph.prebuilt import ToolNode, tools_condition\n",
        "from langgraph.checkpoint.memory import MemorySaver\n",
        "from langchain_core.tools import tool\n",
        "from langchain_groq import ChatGroq\n",
        "from typing import Literal\n",
        "from typing import Annotated\n",
        "from typing_extensions import TypedDict\n",
        "from langgraph.graph import StateGraph, START, END"
      ],
      "metadata": {
        "id": "oI8paCFq6umV"
      },
      "execution_count": null,
      "outputs": []
    },
    {
      "cell_type": "code",
      "source": [
        "_set_env(\"GROQ_API_KEY\")\n",
        "_set_env(\"TAVILY_API_KEY\")"
      ],
      "metadata": {
        "id": "E-0M7WnPe7-o"
      },
      "execution_count": null,
      "outputs": []
    },
    {
      "cell_type": "code",
      "source": [
        "llm = ChatGroq(model=\"qwen-2.5-32b\",\n",
        "               temperature=0,\n",
        "               max_tokens=1024,\n",
        "               max_retries=2)"
      ],
      "metadata": {
        "id": "ELTT7iwSd7hk"
      },
      "execution_count": null,
      "outputs": []
    },
    {
      "cell_type": "code",
      "source": [
        "class State(TypedDict):\n",
        "    messages: Annotated[list, add_messages]\n",
        "\n",
        "graph_builder_human = StateGraph(State)\n",
        "\n",
        "def human_approval(state: State) -> Command[Literal[\"chatbotWithTools\",\n",
        "                                                    END]]:\n",
        "    human_response = interrupt({\"query\": \"Do I search Internet?\"})\n",
        "\n",
        "    print(human_response[\"data\"])\n",
        "\n",
        "    last_message = state[\"messages\"][-1]\n",
        "    print(\"last message:\", last_message.content)\n",
        "\n",
        "    if human_response[\"data\"] == \"yes\":\n",
        "        print(\"Calling chatbot\")\n",
        "        return Command(goto=\"chatbotWithTools\", update={\"messages\": last_message.content})\n",
        "    else:\n",
        "        print(\"END\")\n",
        "        return Command(goto=END)\n",
        "\n",
        "tool = TavilySearchResults(max_results=5)\n",
        "tools = [tool]\n",
        "llm_with_tools = llm.bind_tools(tools)\n",
        "\n",
        "def chatbot_with_tools(state: State):\n",
        "    print(\"chatbot message received: \", state[\"messages\"])\n",
        "    return {\"messages\": [llm_with_tools.invoke(state[\"messages\"])]}"
      ],
      "metadata": {
        "id": "wzIrUMgkdITl"
      },
      "execution_count": null,
      "outputs": []
    },
    {
      "cell_type": "code",
      "source": [
        "graph_builder_human.add_node(\"human_approval\", human_approval)\n",
        "graph_builder_human.add_node(\"chatbotWithTools\", chatbot_with_tools)\n",
        "\n",
        "tool_node = ToolNode(tools=[tool])\n",
        "graph_builder_human.add_node(\"tools\", tool_node)\n",
        "\n",
        "graph_builder_human.add_conditional_edges(\n",
        "    \"chatbotWithTools\",\n",
        "    tools_condition,\n",
        ")\n",
        "\n",
        "# Any time a tool is called, we return to the chatbot to decide the next step\n",
        "graph_builder_human.add_edge(\"tools\", \"chatbotWithTools\")\n",
        "\n",
        "graph_builder_human.add_edge(START, \"human_approval\")\n",
        "\n",
        "memory = MemorySaver()\n",
        "graph_human = graph_builder_human.compile(checkpointer=memory)"
      ],
      "metadata": {
        "id": "sux3lkilderj"
      },
      "execution_count": null,
      "outputs": []
    },
    {
      "cell_type": "code",
      "source": [
        "from IPython.display import Image, display\n",
        "\n",
        "try:\n",
        "    display(Image(graph_human.get_graph().draw_mermaid_png()))\n",
        "except Exception:\n",
        "    # This requires some extra dependencies and is optional\n",
        "    pass"
      ],
      "metadata": {
        "colab": {
          "base_uri": "https://localhost:8080/",
          "height": 365
        },
        "id": "MOZgQVrsk8Qc",
        "outputId": "4a6f59a6-9cad-41f6-c34f-d702a1845be8"
      },
      "execution_count": null,
      "outputs": [
        {
          "output_type": "display_data",
          "data": {
            "image/png": "[encoded data removed]",
            "text/plain": [
              "<IPython.core.display.Image object>"
            ]
          },
          "metadata": {}
        }
      ]
    },
    {
      "cell_type": "code",
      "source": [
        "user_query = \"Who won the ICC championship trophy recently?\"\n",
        "user_input = {\"messages\": [{\"role\": \"user\", \"content\": user_query}]}\n",
        "config = {\"configurable\": {\"thread_id\": \"2\"}}\n",
        "\n",
        "# Run the graph until the first interruption\n",
        "for event in graph_human.stream(user_input, config, stream_mode=\"updates\"):\n",
        "    print(event)\n",
        "    print(\"\\n\")\n",
        "\n",
        "#response = graph_human.stream({\"messages\": [{\"role\": \"user\", \"content\": user_input}]}, config)"
      ],
      "metadata": {
        "colab": {
          "base_uri": "https://localhost:8080/"
        },
        "id": "o5RUOGD5fFgb",
        "outputId": "7038549f-bd39-4c56-9346-2f2a173e0983"
      },
      "execution_count": null,
      "outputs": [
        {
          "output_type": "stream",
          "name": "stdout",
          "text": [
            "{'__interrupt__': (Interrupt(value={'query': 'Do I search Internet?'}, resumable=True, ns=['human_approval:340f3c9a-1352-e53c-26af-782b71b10007']),)}\n",
            "\n",
            "\n"
          ]
        }
      ]
    },
    {
      "cell_type": "code",
      "source": [
        "snapshot = graph_human.get_state(config)\n",
        "snapshot.next"
      ],
      "metadata": {
        "colab": {
          "base_uri": "https://localhost:8080/"
        },
        "id": "I1isO-JBk2I-",
        "outputId": "df8e633e-8ec9-493a-da2d-c77b746b4364"
      },
      "execution_count": null,
      "outputs": [
        {
          "output_type": "execute_result",
          "data": {
            "text/plain": [
              "('human_approval',)"
            ]
          },
          "metadata": {},
          "execution_count": 442
        }
      ]
    },
    {
      "cell_type": "code",
      "source": [
        "config = {\"configurable\": {\"thread_id\": \"2\"}}\n",
        "human_command = Command(resume={\"data\": \"yes\"})\n",
        "\n",
        "for event in graph_human.stream(\n",
        "   human_command, config, stream_mode=\"updates\"):\n",
        "   print(event)\n",
        "   print(\"\\n\")"
      ],
      "metadata": {
        "colab": {
          "base_uri": "https://localhost:8080/"
        },
        "id": "5K-lKIZblDNn",
        "outputId": "388b6da2-9156-4e96-a9e9-620f0a55e872"
      },
      "execution_count": null,
      "outputs": [
        {
          "output_type": "stream",
          "name": "stdout",
          "text": [
            "yes\n",
            "last message: Who won the ICC championship trophy recently?\n",
            "Calling chatbot\n",
            "{'human_approval': {'messages': 'Who won the ICC championship trophy recently?'}}\n",
            "\n",
            "\n",
            "chatbot message received:  [HumanMessage(content='Who won the ICC championship trophy recently?', additional_kwargs={}, response_metadata={}, id='03fa8181-d64b-4f00-bba8-42726f52879a'), HumanMessage(content='Who won the ICC championship trophy recently?', additional_kwargs={}, response_metadata={}, id='1bd68cf6-6167-4458-a85e-0e91eed8e900')]\n",
            "{'chatbotWithTools': {'messages': [AIMessage(content='', additional_kwargs={'tool_calls': [{'id': 'call_qf4d', 'function': {'arguments': '{\"query\": \"ICC championship trophy winner\"}', 'name': 'tavily_search_results_json'}, 'type': 'function'}]}, response_metadata={'token_usage': {'completion_tokens': 27, 'prompt_tokens': 227, 'total_tokens': 254, 'completion_time': 0.135, 'prompt_time': 0.016269397, 'queue_time': 0.38948099199999997, 'total_time': 0.151269397}, 'model_name': 'qwen-2.5-32b', 'system_fingerprint': 'fp_35f92f8282', 'finish_reason': 'tool_calls', 'logprobs': None}, id='run-51d2a2a8-2ade-48c6-ad50-d7587cf68303-0', tool_calls=[{'name': 'tavily_search_results_json', 'args': {'query': 'ICC championship trophy winner'}, 'id': 'call_qf4d', 'type': 'tool_call'}], usage_metadata={'input_tokens': 227, 'output_tokens': 27, 'total_tokens': 254})]}}\n",
            "\n",
            "\n",
            "{'tools': {'messages': [ToolMessage(content='[{\"title\": \"Champions Trophy winners list: Know them all - Olympics.com\", \"url\": \"https://www.olympics.com/en/news/icc-champions-trophy-winners-list\", \"content\": \"The ICC Champions Trophy is considered the most prestigious ODI cricket tournament in the globe after the 50-over World Cup.\\\\nOrganised by the International Cricket Council (ICC), the first edition of the Champions Trophy cricket tournament was hosted by Bangladesh in 1998.\\\\nAt the time, it was called the ICC KnockOut Trophy owing to the nature of the competition. South Africa became the inaugural Champions Trophy winners after beating the West Indies in the final. [...] ICC Champions Trophy winners: India most successful team in the tournament - full list of champions\\\\nIndia shared the trophy with Sri Lanka in 2002 and were the outright champions in 2013 and 2025. Australia won the title twice.\\\\n2 minBy Andre Pitts\\\\nCricket\\\\n\\\\n(Getty Images)\", \"score\": 0.8268989853932585}, {\"title\": \"ICC Champions Trophy Winners List (1998-2025) Captain-Wise\", \"url\": \"https://currentaffairs.adda247.com/icc-champions-trophy-winners-list/\", \"content\": \"Here’s the complete list of Champions Trophy winners from 1998 to 2025. The 2025 winner is India, with the tournament taking place in Pakistan and the UAE.\\\\nYearWinnerCaptain1998South AfricaHansie Cronje2000New ZealandStephen Fleming2002Sri Lanka and IndiaSourav Ganguly/Sanath Jayasuriya2004West IndiesBrian Lara2006AustraliaRicky Ponting2009AustraliaRicky Ponting2013IndiaMS Dhoni2017PakistanSarfaraz Ahmed2025IndiaRohit Sharma\\\\nChampions Trophy Winners List (1998-2025) [...] \\u200bAs of February 25, 2025, the ICC Champions Trophy is currently underway, with the final match yet to be played. The tournament is scheduled to conclude on March 9, 2025. Therefore, the most recent completed edition of the ICC Champions Trophy was held in 2017, where Pakistan emerged as the champions. In the 2017 final, Pakistan defeated India by 180 runs at The Oval in London. Pakistan posted a total of 338/4 in their 50 overs, and India was bowled out for 158 in 30.3 overs. \\u200b [...] Here’s the complete list of Champions Trophy host nations and winners from 1998 to 2025. The upcoming 2025 edition will be hosted by Pakistan and the UAE, with the winner yet to be decided.\\\\nYearHost Nation(s)Winner(s)1998BangladeshSouth Africa2000KenyaNew Zealand2002Sri LankaIndia and Sri Lanka2004EnglandWest Indies2006IndiaAustralia2009South AfricaAustralia2013England and WalesIndia2017England and WalesPakistan2025Pakistan and United Arab EmiratesIndia\\\\nLast Champions Trophy Winner\", \"score\": 0.8190916675842698}, {\"title\": \"ICC Champions Trophy - Wikipedia\", \"url\": \"https://en.wikipedia.org/wiki/ICC_Champions_Trophy\", \"content\": \"So far, a total of fourteen teams have competed in the nine editions of the tournament. India (2002,2013,2025) is the most successful team with three titles, Australia (2006,2009) has won it twice while South Africa (1998), New Zealand (2000), Sri Lanka (2002), West Indies (2004) and Pakistan (2017) have won it once each. The 2002 edition was shared between India and Sri Lanka after the final ended in a no-result due to rain.\\\\nIndia are the current champions after winning the 2025 edition. [...] Overview\\\\nMen\\'s Champions Trophy winnersYearChampions1998\\xa0South Africa2000\\xa0New Zealand2002\\xa0India &\\xa0Sri Lanka2004\\xa0West Indies2006\\xa0Australia2009\\xa0Australia\\xa0(2)2013\\xa0India\\xa0(2)2017\\xa0Pakistan2025\\xa0India\\xa0(3) [...] The eight teams were then split into two groups of four in a round robin competition. While Australia and West Indies qualified from Group A, South Africa and New Zealand qualified from Group B for the semifinals. Australia and West Indies reached the final defeating New Zealand and South Africa, respectively. In the final, Australia beat West Indies by 8 wickets to win the trophy for the first time. The venues for the tournament were Mohali, Ahmedabad, Jaipur and Mumbai.\", \"score\": 0.7929075039138577}, {\"title\": \"ICC Champions Trophy Winners List 1998 - 2025   - Jagran Josh\", \"url\": \"https://www.jagranjosh.com/general-knowledge/icc-champions-trophy-winners-list-1739452299-1\", \"content\": \"Most Runs in ICC Champions Trophy 2025: Highest Run-Scorers List\\\\nICC Championship Trophy: Interesting Facts\\\\n1. India became the only team to win the Champions Trophy three times in 2002, 2013, and 2025. Australia won the ICC Championship Trophy two times, in 2006 and 2009.\\\\n2. Rain prevented the final from taking place in 2002, leaving India and Sri Lanka as the joint winners. [...] All Comments (0)\\\\nICC Champions Trophy Winners List (1998-2025)\\\\nThe ICC Champions Trophy is a prestigious one-day international knockout tournament introduced by the ICC in the year 1998. The tournament was later known as the ICC Knockout Tournament, and from 2002 onwards, it was renamed the ICC Champions Trophy. In this article, we will be covering the list of ICC Champions Trophy winners from 1998 to 2025.\\\\n\\\\nByMrigank Chakraborty\\\\nMar 10, 2025, 11:58 IST [...] ICC Champions Trophy Winners List\\\\nThe ICC Champions Trophy is a prestigious one-day international knockout tournament introduced by the ICC in the year 1998. It was formerly known as the ICC Knockout Tournament. This tournament was first held as the Wills International Cup in 1998 in Bangladesh.\", \"score\": 0.7811209902621723}]', name='tavily_search_results_json', id='98947629-ca18-4979-bb59-d2bc19539015', tool_call_id='call_qf4d', artifact={'query': 'ICC championship trophy winner', 'follow_up_questions': None, 'answer': None, 'images': [], 'results': [{'url': 'https://www.olympics.com/en/news/icc-champions-trophy-winners-list', 'title': 'Champions Trophy winners list: Know them all - Olympics.com', 'content': 'The ICC Champions Trophy is considered the most prestigious ODI cricket tournament in the globe after the 50-over World Cup.\\nOrganised by the International Cricket Council (ICC), the first edition of the Champions Trophy cricket tournament was hosted by Bangladesh in 1998.\\nAt the time, it was called the ICC KnockOut Trophy owing to the nature of the competition. South Africa became the inaugural Champions Trophy winners after beating the West Indies in the final. [...] ICC Champions Trophy winners: India most successful team in the tournament - full list of champions\\nIndia shared the trophy with Sri Lanka in 2002 and were the outright champions in 2013 and 2025. Australia won the title twice.\\n2 minBy Andre Pitts\\nCricket\\n\\n(Getty Images)', 'score': 0.8268989853932585, 'raw_content': None}, {'url': 'https://currentaffairs.adda247.com/icc-champions-trophy-winners-list/', 'title': 'ICC Champions Trophy Winners List (1998-2025) Captain-Wise', 'content': 'Here’s the complete list of Champions Trophy winners from 1998 to 2025. The 2025 winner is India, with the tournament taking place in Pakistan and the UAE.\\nYearWinnerCaptain1998South AfricaHansie Cronje2000New ZealandStephen Fleming2002Sri Lanka and IndiaSourav Ganguly/Sanath Jayasuriya2004West IndiesBrian Lara2006AustraliaRicky Ponting2009AustraliaRicky Ponting2013IndiaMS Dhoni2017PakistanSarfaraz Ahmed2025IndiaRohit Sharma\\nChampions Trophy Winners List (1998-2025) [...] \\u200bAs of February 25, 2025, the ICC Champions Trophy is currently underway, with the final match yet to be played. The tournament is scheduled to conclude on March 9, 2025. Therefore, the most recent completed edition of the ICC Champions Trophy was held in 2017, where Pakistan emerged as the champions. In the 2017 final, Pakistan defeated India by 180 runs at The Oval in London. Pakistan posted a total of 338/4 in their 50 overs, and India was bowled out for 158 in 30.3 overs. \\u200b [...] Here’s the complete list of Champions Trophy host nations and winners from 1998 to 2025. The upcoming 2025 edition will be hosted by Pakistan and the UAE, with the winner yet to be decided.\\nYearHost Nation(s)Winner(s)1998BangladeshSouth Africa2000KenyaNew Zealand2002Sri LankaIndia and Sri Lanka2004EnglandWest Indies2006IndiaAustralia2009South AfricaAustralia2013England and WalesIndia2017England and WalesPakistan2025Pakistan and United Arab EmiratesIndia\\nLast Champions Trophy Winner', 'score': 0.8190916675842698, 'raw_content': None}, {'url': 'https://en.wikipedia.org/wiki/ICC_Champions_Trophy', 'title': 'ICC Champions Trophy - Wikipedia', 'content': \"So far, a total of fourteen teams have competed in the nine editions of the tournament. India (2002,2013,2025) is the most successful team with three titles, Australia (2006,2009) has won it twice while South Africa (1998), New Zealand (2000), Sri Lanka (2002), West Indies (2004) and Pakistan (2017) have won it once each. The 2002 edition was shared between India and Sri Lanka after the final ended in a no-result due to rain.\\nIndia are the current champions after winning the 2025 edition. [...] Overview\\nMen's Champions Trophy winnersYearChampions1998\\xa0South Africa2000\\xa0New Zealand2002\\xa0India &\\xa0Sri Lanka2004\\xa0West Indies2006\\xa0Australia2009\\xa0Australia\\xa0(2)2013\\xa0India\\xa0(2)2017\\xa0Pakistan2025\\xa0India\\xa0(3) [...] The eight teams were then split into two groups of four in a round robin competition. While Australia and West Indies qualified from Group A, South Africa and New Zealand qualified from Group B for the semifinals. Australia and West Indies reached the final defeating New Zealand and South Africa, respectively. In the final, Australia beat West Indies by 8 wickets to win the trophy for the first time. The venues for the tournament were Mohali, Ahmedabad, Jaipur and Mumbai.\", 'score': 0.7929075039138577, 'raw_content': None}, {'url': 'https://www.jagranjosh.com/general-knowledge/icc-champions-trophy-winners-list-1739452299-1', 'title': 'ICC Champions Trophy Winners List 1998 - 2025   - Jagran Josh', 'content': 'Most Runs in ICC Champions Trophy 2025: Highest Run-Scorers List\\nICC Championship Trophy: Interesting Facts\\n1. India became the only team to win the Champions Trophy three times in 2002, 2013, and 2025. Australia won the ICC Championship Trophy two times, in 2006 and 2009.\\n2. Rain prevented the final from taking place in 2002, leaving India and Sri Lanka as the joint winners. [...] All Comments (0)\\nICC Champions Trophy Winners List (1998-2025)\\nThe ICC Champions Trophy is a prestigious one-day international knockout tournament introduced by the ICC in the year 1998. The tournament was later known as the ICC Knockout Tournament, and from 2002 onwards, it was renamed the ICC Champions Trophy. In this article, we will be covering the list of ICC Champions Trophy winners from 1998 to 2025.\\n\\nByMrigank Chakraborty\\nMar 10, 2025, 11:58 IST [...] ICC Champions Trophy Winners List\\nThe ICC Champions Trophy is a prestigious one-day international knockout tournament introduced by the ICC in the year 1998. It was formerly known as the ICC Knockout Tournament. This tournament was first held as the Wills International Cup in 1998 in Bangladesh.', 'score': 0.7811209902621723, 'raw_content': None}], 'response_time': 1.65})]}}\n",
            "\n",
            "\n",
            "chatbot message received:  [HumanMessage(content='Who won the ICC championship trophy recently?', additional_kwargs={}, response_metadata={}, id='03fa8181-d64b-4f00-bba8-42726f52879a'), HumanMessage(content='Who won the ICC championship trophy recently?', additional_kwargs={}, response_metadata={}, id='1bd68cf6-6167-4458-a85e-0e91eed8e900'), AIMessage(content='', additional_kwargs={'tool_calls': [{'id': 'call_qf4d', 'function': {'arguments': '{\"query\": \"ICC championship trophy winner\"}', 'name': 'tavily_search_results_json'}, 'type': 'function'}]}, response_metadata={'token_usage': {'completion_tokens': 27, 'prompt_tokens': 227, 'total_tokens': 254, 'completion_time': 0.135, 'prompt_time': 0.016269397, 'queue_time': 0.38948099199999997, 'total_time': 0.151269397}, 'model_name': 'qwen-2.5-32b', 'system_fingerprint': 'fp_35f92f8282', 'finish_reason': 'tool_calls', 'logprobs': None}, id='run-51d2a2a8-2ade-48c6-ad50-d7587cf68303-0', tool_calls=[{'name': 'tavily_search_results_json', 'args': {'query': 'ICC championship trophy winner'}, 'id': 'call_qf4d', 'type': 'tool_call'}], usage_metadata={'input_tokens': 227, 'output_tokens': 27, 'total_tokens': 254}), ToolMessage(content='[{\"title\": \"Champions Trophy winners list: Know them all - Olympics.com\", \"url\": \"https://www.olympics.com/en/news/icc-champions-trophy-winners-list\", \"content\": \"The ICC Champions Trophy is considered the most prestigious ODI cricket tournament in the globe after the 50-over World Cup.\\\\nOrganised by the International Cricket Council (ICC), the first edition of the Champions Trophy cricket tournament was hosted by Bangladesh in 1998.\\\\nAt the time, it was called the ICC KnockOut Trophy owing to the nature of the competition. South Africa became the inaugural Champions Trophy winners after beating the West Indies in the final. [...] ICC Champions Trophy winners: India most successful team in the tournament - full list of champions\\\\nIndia shared the trophy with Sri Lanka in 2002 and were the outright champions in 2013 and 2025. Australia won the title twice.\\\\n2 minBy Andre Pitts\\\\nCricket\\\\n\\\\n(Getty Images)\", \"score\": 0.8268989853932585}, {\"title\": \"ICC Champions Trophy Winners List (1998-2025) Captain-Wise\", \"url\": \"https://currentaffairs.adda247.com/icc-champions-trophy-winners-list/\", \"content\": \"Here’s the complete list of Champions Trophy winners from 1998 to 2025. The 2025 winner is India, with the tournament taking place in Pakistan and the UAE.\\\\nYearWinnerCaptain1998South AfricaHansie Cronje2000New ZealandStephen Fleming2002Sri Lanka and IndiaSourav Ganguly/Sanath Jayasuriya2004West IndiesBrian Lara2006AustraliaRicky Ponting2009AustraliaRicky Ponting2013IndiaMS Dhoni2017PakistanSarfaraz Ahmed2025IndiaRohit Sharma\\\\nChampions Trophy Winners List (1998-2025) [...] \\u200bAs of February 25, 2025, the ICC Champions Trophy is currently underway, with the final match yet to be played. The tournament is scheduled to conclude on March 9, 2025. Therefore, the most recent completed edition of the ICC Champions Trophy was held in 2017, where Pakistan emerged as the champions. In the 2017 final, Pakistan defeated India by 180 runs at The Oval in London. Pakistan posted a total of 338/4 in their 50 overs, and India was bowled out for 158 in 30.3 overs. \\u200b [...] Here’s the complete list of Champions Trophy host nations and winners from 1998 to 2025. The upcoming 2025 edition will be hosted by Pakistan and the UAE, with the winner yet to be decided.\\\\nYearHost Nation(s)Winner(s)1998BangladeshSouth Africa2000KenyaNew Zealand2002Sri LankaIndia and Sri Lanka2004EnglandWest Indies2006IndiaAustralia2009South AfricaAustralia2013England and WalesIndia2017England and WalesPakistan2025Pakistan and United Arab EmiratesIndia\\\\nLast Champions Trophy Winner\", \"score\": 0.8190916675842698}, {\"title\": \"ICC Champions Trophy - Wikipedia\", \"url\": \"https://en.wikipedia.org/wiki/ICC_Champions_Trophy\", \"content\": \"So far, a total of fourteen teams have competed in the nine editions of the tournament. India (2002,2013,2025) is the most successful team with three titles, Australia (2006,2009) has won it twice while South Africa (1998), New Zealand (2000), Sri Lanka (2002), West Indies (2004) and Pakistan (2017) have won it once each. The 2002 edition was shared between India and Sri Lanka after the final ended in a no-result due to rain.\\\\nIndia are the current champions after winning the 2025 edition. [...] Overview\\\\nMen\\'s Champions Trophy winnersYearChampions1998\\xa0South Africa2000\\xa0New Zealand2002\\xa0India &\\xa0Sri Lanka2004\\xa0West Indies2006\\xa0Australia2009\\xa0Australia\\xa0(2)2013\\xa0India\\xa0(2)2017\\xa0Pakistan2025\\xa0India\\xa0(3) [...] The eight teams were then split into two groups of four in a round robin competition. While Australia and West Indies qualified from Group A, South Africa and New Zealand qualified from Group B for the semifinals. Australia and West Indies reached the final defeating New Zealand and South Africa, respectively. In the final, Australia beat West Indies by 8 wickets to win the trophy for the first time. The venues for the tournament were Mohali, Ahmedabad, Jaipur and Mumbai.\", \"score\": 0.7929075039138577}, {\"title\": \"ICC Champions Trophy Winners List 1998 - 2025   - Jagran Josh\", \"url\": \"https://www.jagranjosh.com/general-knowledge/icc-champions-trophy-winners-list-1739452299-1\", \"content\": \"Most Runs in ICC Champions Trophy 2025: Highest Run-Scorers List\\\\nICC Championship Trophy: Interesting Facts\\\\n1. India became the only team to win the Champions Trophy three times in 2002, 2013, and 2025. Australia won the ICC Championship Trophy two times, in 2006 and 2009.\\\\n2. Rain prevented the final from taking place in 2002, leaving India and Sri Lanka as the joint winners. [...] All Comments (0)\\\\nICC Champions Trophy Winners List (1998-2025)\\\\nThe ICC Champions Trophy is a prestigious one-day international knockout tournament introduced by the ICC in the year 1998. The tournament was later known as the ICC Knockout Tournament, and from 2002 onwards, it was renamed the ICC Champions Trophy. In this article, we will be covering the list of ICC Champions Trophy winners from 1998 to 2025.\\\\n\\\\nByMrigank Chakraborty\\\\nMar 10, 2025, 11:58 IST [...] ICC Champions Trophy Winners List\\\\nThe ICC Champions Trophy is a prestigious one-day international knockout tournament introduced by the ICC in the year 1998. It was formerly known as the ICC Knockout Tournament. This tournament was first held as the Wills International Cup in 1998 in Bangladesh.\", \"score\": 0.7811209902621723}]', name='tavily_search_results_json', id='98947629-ca18-4979-bb59-d2bc19539015', tool_call_id='call_qf4d', artifact={'query': 'ICC championship trophy winner', 'follow_up_questions': None, 'answer': None, 'images': [], 'results': [{'url': 'https://www.olympics.com/en/news/icc-champions-trophy-winners-list', 'title': 'Champions Trophy winners list: Know them all - Olympics.com', 'content': 'The ICC Champions Trophy is considered the most prestigious ODI cricket tournament in the globe after the 50-over World Cup.\\nOrganised by the International Cricket Council (ICC), the first edition of the Champions Trophy cricket tournament was hosted by Bangladesh in 1998.\\nAt the time, it was called the ICC KnockOut Trophy owing to the nature of the competition. South Africa became the inaugural Champions Trophy winners after beating the West Indies in the final. [...] ICC Champions Trophy winners: India most successful team in the tournament - full list of champions\\nIndia shared the trophy with Sri Lanka in 2002 and were the outright champions in 2013 and 2025. Australia won the title twice.\\n2 minBy Andre Pitts\\nCricket\\n\\n(Getty Images)', 'score': 0.8268989853932585, 'raw_content': None}, {'url': 'https://currentaffairs.adda247.com/icc-champions-trophy-winners-list/', 'title': 'ICC Champions Trophy Winners List (1998-2025) Captain-Wise', 'content': 'Here’s the complete list of Champions Trophy winners from 1998 to 2025. The 2025 winner is India, with the tournament taking place in Pakistan and the UAE.\\nYearWinnerCaptain1998South AfricaHansie Cronje2000New ZealandStephen Fleming2002Sri Lanka and IndiaSourav Ganguly/Sanath Jayasuriya2004West IndiesBrian Lara2006AustraliaRicky Ponting2009AustraliaRicky Ponting2013IndiaMS Dhoni2017PakistanSarfaraz Ahmed2025IndiaRohit Sharma\\nChampions Trophy Winners List (1998-2025) [...] \\u200bAs of February 25, 2025, the ICC Champions Trophy is currently underway, with the final match yet to be played. The tournament is scheduled to conclude on March 9, 2025. Therefore, the most recent completed edition of the ICC Champions Trophy was held in 2017, where Pakistan emerged as the champions. In the 2017 final, Pakistan defeated India by 180 runs at The Oval in London. Pakistan posted a total of 338/4 in their 50 overs, and India was bowled out for 158 in 30.3 overs. \\u200b [...] Here’s the complete list of Champions Trophy host nations and winners from 1998 to 2025. The upcoming 2025 edition will be hosted by Pakistan and the UAE, with the winner yet to be decided.\\nYearHost Nation(s)Winner(s)1998BangladeshSouth Africa2000KenyaNew Zealand2002Sri LankaIndia and Sri Lanka2004EnglandWest Indies2006IndiaAustralia2009South AfricaAustralia2013England and WalesIndia2017England and WalesPakistan2025Pakistan and United Arab EmiratesIndia\\nLast Champions Trophy Winner', 'score': 0.8190916675842698, 'raw_content': None}, {'url': 'https://en.wikipedia.org/wiki/ICC_Champions_Trophy', 'title': 'ICC Champions Trophy - Wikipedia', 'content': \"So far, a total of fourteen teams have competed in the nine editions of the tournament. India (2002,2013,2025) is the most successful team with three titles, Australia (2006,2009) has won it twice while South Africa (1998), New Zealand (2000), Sri Lanka (2002), West Indies (2004) and Pakistan (2017) have won it once each. The 2002 edition was shared between India and Sri Lanka after the final ended in a no-result due to rain.\\nIndia are the current champions after winning the 2025 edition. [...] Overview\\nMen's Champions Trophy winnersYearChampions1998\\xa0South Africa2000\\xa0New Zealand2002\\xa0India &\\xa0Sri Lanka2004\\xa0West Indies2006\\xa0Australia2009\\xa0Australia\\xa0(2)2013\\xa0India\\xa0(2)2017\\xa0Pakistan2025\\xa0India\\xa0(3) [...] The eight teams were then split into two groups of four in a round robin competition. While Australia and West Indies qualified from Group A, South Africa and New Zealand qualified from Group B for the semifinals. Australia and West Indies reached the final defeating New Zealand and South Africa, respectively. In the final, Australia beat West Indies by 8 wickets to win the trophy for the first time. The venues for the tournament were Mohali, Ahmedabad, Jaipur and Mumbai.\", 'score': 0.7929075039138577, 'raw_content': None}, {'url': 'https://www.jagranjosh.com/general-knowledge/icc-champions-trophy-winners-list-1739452299-1', 'title': 'ICC Champions Trophy Winners List 1998 - 2025   - Jagran Josh', 'content': 'Most Runs in ICC Champions Trophy 2025: Highest Run-Scorers List\\nICC Championship Trophy: Interesting Facts\\n1. India became the only team to win the Champions Trophy three times in 2002, 2013, and 2025. Australia won the ICC Championship Trophy two times, in 2006 and 2009.\\n2. Rain prevented the final from taking place in 2002, leaving India and Sri Lanka as the joint winners. [...] All Comments (0)\\nICC Champions Trophy Winners List (1998-2025)\\nThe ICC Champions Trophy is a prestigious one-day international knockout tournament introduced by the ICC in the year 1998. The tournament was later known as the ICC Knockout Tournament, and from 2002 onwards, it was renamed the ICC Champions Trophy. In this article, we will be covering the list of ICC Champions Trophy winners from 1998 to 2025.\\n\\nByMrigank Chakraborty\\nMar 10, 2025, 11:58 IST [...] ICC Champions Trophy Winners List\\nThe ICC Champions Trophy is a prestigious one-day international knockout tournament introduced by the ICC in the year 1998. It was formerly known as the ICC Knockout Tournament. This tournament was first held as the Wills International Cup in 1998 in Bangladesh.', 'score': 0.7811209902621723, 'raw_content': None}], 'response_time': 1.65})]\n",
            "{'chatbotWithTools': {'messages': [AIMessage(content='India won the ICC Champions Trophy recently in 2025.', additional_kwargs={}, response_metadata={'token_usage': {'completion_tokens': 15, 'prompt_tokens': 1809, 'total_tokens': 1824, 'completion_time': 0.075, 'prompt_time': 0.103426306, 'queue_time': 0.21334874299999998, 'total_time': 0.178426306}, 'model_name': 'qwen-2.5-32b', 'system_fingerprint': 'fp_35f92f8282', 'finish_reason': 'stop', 'logprobs': None}, id='run-8b5a65de-5697-4d31-a958-19c4082ab9e2-0', usage_metadata={'input_tokens': 1809, 'output_tokens': 15, 'total_tokens': 1824})]}}\n",
            "\n",
            "\n"
          ]
        }
      ]
    },
    {
      "cell_type": "code",
      "source": [],
      "metadata": {
        "id": "00aTB8LtP4Gk"
      },
      "execution_count": null,
      "outputs": []
    }
  ]
}